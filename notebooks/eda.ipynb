{
 "cells": [
  {
   "cell_type": "markdown",
   "source": [
    "## Exploratory data analysis\n",
    "AI project methodology - EPITA"
   ],
   "metadata": {
    "collapsed": false,
    "pycharm": {
     "name": "#%% md\n"
    }
   }
  },
  {
   "cell_type": "markdown",
   "source": [
    "### Packages import"
   ],
   "metadata": {
    "collapsed": false,
    "pycharm": {
     "name": "#%% md\n"
    }
   }
  },
  {
   "cell_type": "code",
   "execution_count": 1,
   "outputs": [],
   "source": [
    "import numpy as np\n",
    "import pandas as pd\n",
    "import matplotlib.pyplot as plt\n",
    "import seaborn as sns"
   ],
   "metadata": {
    "collapsed": false,
    "pycharm": {
     "name": "#%%\n"
    }
   }
  },
  {
   "cell_type": "markdown",
   "source": [
    "## Importing data\n",
    "- Import both csv files. We use the option `low_memory=False` since the training dataset has a lot of fields and those have many types of data."
   ],
   "metadata": {
    "collapsed": false,
    "pycharm": {
     "name": "#%% md\n"
    }
   }
  },
  {
   "cell_type": "code",
   "execution_count": 5,
   "outputs": [
    {
     "data": {
      "text/plain": "((100000, 28), (50000, 27))"
     },
     "execution_count": 5,
     "metadata": {},
     "output_type": "execute_result"
    }
   ],
   "source": [
    "df_train = pd.read_csv('../data/train.csv', low_memory=False)\n",
    "df_test = pd.read_csv('../data/test.csv')\n",
    "df_train.shape, df_test.shape"
   ],
   "metadata": {
    "collapsed": false,
    "pycharm": {
     "name": "#%%\n"
    }
   }
  },
  {
   "cell_type": "markdown",
   "source": [
    "- We review the description of the pandas DataFrames"
   ],
   "metadata": {
    "collapsed": false,
    "pycharm": {
     "name": "#%% md\n"
    }
   }
  },
  {
   "cell_type": "code",
   "execution_count": 6,
   "outputs": [
    {
     "data": {
      "text/plain": "            ID Customer_ID    Month    Name     Age        SSN Occupation  \\\ncount   100000      100000   100000   90015  100000     100000     100000   \nunique  100000       12500        8   10139    1788      12501         16   \ntop     0x1602   CUS_0xd40  January  Langep      38  #F%$D@*&8    _______   \nfreq         1           8    12500      44    2833       5572       7062   \nmean       NaN         NaN      NaN     NaN     NaN        NaN        NaN   \nstd        NaN         NaN      NaN     NaN     NaN        NaN        NaN   \nmin        NaN         NaN      NaN     NaN     NaN        NaN        NaN   \n25%        NaN         NaN      NaN     NaN     NaN        NaN        NaN   \n50%        NaN         NaN      NaN     NaN     NaN        NaN        NaN   \n75%        NaN         NaN      NaN     NaN     NaN        NaN        NaN   \nmax        NaN         NaN      NaN     NaN     NaN        NaN        NaN   \n\n       Annual_Income  Monthly_Inhand_Salary  Num_Bank_Accounts  ...  \\\ncount         100000           84998.000000      100000.000000  ...   \nunique         18940                    NaN                NaN  ...   \ntop         36585.12                    NaN                NaN  ...   \nfreq              16                    NaN                NaN  ...   \nmean             NaN            4194.170850          17.091280  ...   \nstd              NaN            3183.686167         117.404834  ...   \nmin              NaN             303.645417          -1.000000  ...   \n25%              NaN            1625.568229           3.000000  ...   \n50%              NaN            3093.745000           6.000000  ...   \n75%              NaN            5957.448333           7.000000  ...   \nmax              NaN           15204.633333        1798.000000  ...   \n\n        Credit_Mix  Outstanding_Debt Credit_Utilization_Ratio  \\\ncount       100000            100000            100000.000000   \nunique           4             13178                      NaN   \ntop       Standard           1360.45                      NaN   \nfreq         36479                24                      NaN   \nmean           NaN               NaN                32.285173   \nstd            NaN               NaN                 5.116875   \nmin            NaN               NaN                20.000000   \n25%            NaN               NaN                28.052567   \n50%            NaN               NaN                32.305784   \n75%            NaN               NaN                36.496663   \nmax            NaN               NaN                50.000000   \n\n            Credit_History_Age  Payment_of_Min_Amount Total_EMI_per_month  \\\ncount                    90970                 100000       100000.000000   \nunique                     404                      3                 NaN   \ntop     15 Years and 11 Months                    Yes                 NaN   \nfreq                       446                  52326                 NaN   \nmean                       NaN                    NaN         1403.118217   \nstd                        NaN                    NaN         8306.041270   \nmin                        NaN                    NaN            0.000000   \n25%                        NaN                    NaN           30.306660   \n50%                        NaN                    NaN           69.249473   \n75%                        NaN                    NaN          161.224249   \nmax                        NaN                    NaN        82331.000000   \n\n       Amount_invested_monthly               Payment_Behaviour  \\\ncount                    95521                          100000   \nunique                   91049                               7   \ntop                  __10000__  Low_spent_Small_value_payments   \nfreq                      4305                           25513   \nmean                       NaN                             NaN   \nstd                        NaN                             NaN   \nmin                        NaN                             NaN   \n25%                        NaN                             NaN   \n50%                        NaN                             NaN   \n75%                        NaN                             NaN   \nmax                        NaN                             NaN   \n\n                         Monthly_Balance Credit_Score  \ncount                              98800       100000  \nunique                             98792            3  \ntop     __-333333333333333333333333333__     Standard  \nfreq                                   9        53174  \nmean                                 NaN          NaN  \nstd                                  NaN          NaN  \nmin                                  NaN          NaN  \n25%                                  NaN          NaN  \n50%                                  NaN          NaN  \n75%                                  NaN          NaN  \nmax                                  NaN          NaN  \n\n[11 rows x 28 columns]",
      "text/html": "<div>\n<style scoped>\n    .dataframe tbody tr th:only-of-type {\n        vertical-align: middle;\n    }\n\n    .dataframe tbody tr th {\n        vertical-align: top;\n    }\n\n    .dataframe thead th {\n        text-align: right;\n    }\n</style>\n<table border=\"1\" class=\"dataframe\">\n  <thead>\n    <tr style=\"text-align: right;\">\n      <th></th>\n      <th>ID</th>\n      <th>Customer_ID</th>\n      <th>Month</th>\n      <th>Name</th>\n      <th>Age</th>\n      <th>SSN</th>\n      <th>Occupation</th>\n      <th>Annual_Income</th>\n      <th>Monthly_Inhand_Salary</th>\n      <th>Num_Bank_Accounts</th>\n      <th>...</th>\n      <th>Credit_Mix</th>\n      <th>Outstanding_Debt</th>\n      <th>Credit_Utilization_Ratio</th>\n      <th>Credit_History_Age</th>\n      <th>Payment_of_Min_Amount</th>\n      <th>Total_EMI_per_month</th>\n      <th>Amount_invested_monthly</th>\n      <th>Payment_Behaviour</th>\n      <th>Monthly_Balance</th>\n      <th>Credit_Score</th>\n    </tr>\n  </thead>\n  <tbody>\n    <tr>\n      <th>count</th>\n      <td>100000</td>\n      <td>100000</td>\n      <td>100000</td>\n      <td>90015</td>\n      <td>100000</td>\n      <td>100000</td>\n      <td>100000</td>\n      <td>100000</td>\n      <td>84998.000000</td>\n      <td>100000.000000</td>\n      <td>...</td>\n      <td>100000</td>\n      <td>100000</td>\n      <td>100000.000000</td>\n      <td>90970</td>\n      <td>100000</td>\n      <td>100000.000000</td>\n      <td>95521</td>\n      <td>100000</td>\n      <td>98800</td>\n      <td>100000</td>\n    </tr>\n    <tr>\n      <th>unique</th>\n      <td>100000</td>\n      <td>12500</td>\n      <td>8</td>\n      <td>10139</td>\n      <td>1788</td>\n      <td>12501</td>\n      <td>16</td>\n      <td>18940</td>\n      <td>NaN</td>\n      <td>NaN</td>\n      <td>...</td>\n      <td>4</td>\n      <td>13178</td>\n      <td>NaN</td>\n      <td>404</td>\n      <td>3</td>\n      <td>NaN</td>\n      <td>91049</td>\n      <td>7</td>\n      <td>98792</td>\n      <td>3</td>\n    </tr>\n    <tr>\n      <th>top</th>\n      <td>0x1602</td>\n      <td>CUS_0xd40</td>\n      <td>January</td>\n      <td>Langep</td>\n      <td>38</td>\n      <td>#F%$D@*&amp;8</td>\n      <td>_______</td>\n      <td>36585.12</td>\n      <td>NaN</td>\n      <td>NaN</td>\n      <td>...</td>\n      <td>Standard</td>\n      <td>1360.45</td>\n      <td>NaN</td>\n      <td>15 Years and 11 Months</td>\n      <td>Yes</td>\n      <td>NaN</td>\n      <td>__10000__</td>\n      <td>Low_spent_Small_value_payments</td>\n      <td>__-333333333333333333333333333__</td>\n      <td>Standard</td>\n    </tr>\n    <tr>\n      <th>freq</th>\n      <td>1</td>\n      <td>8</td>\n      <td>12500</td>\n      <td>44</td>\n      <td>2833</td>\n      <td>5572</td>\n      <td>7062</td>\n      <td>16</td>\n      <td>NaN</td>\n      <td>NaN</td>\n      <td>...</td>\n      <td>36479</td>\n      <td>24</td>\n      <td>NaN</td>\n      <td>446</td>\n      <td>52326</td>\n      <td>NaN</td>\n      <td>4305</td>\n      <td>25513</td>\n      <td>9</td>\n      <td>53174</td>\n    </tr>\n    <tr>\n      <th>mean</th>\n      <td>NaN</td>\n      <td>NaN</td>\n      <td>NaN</td>\n      <td>NaN</td>\n      <td>NaN</td>\n      <td>NaN</td>\n      <td>NaN</td>\n      <td>NaN</td>\n      <td>4194.170850</td>\n      <td>17.091280</td>\n      <td>...</td>\n      <td>NaN</td>\n      <td>NaN</td>\n      <td>32.285173</td>\n      <td>NaN</td>\n      <td>NaN</td>\n      <td>1403.118217</td>\n      <td>NaN</td>\n      <td>NaN</td>\n      <td>NaN</td>\n      <td>NaN</td>\n    </tr>\n    <tr>\n      <th>std</th>\n      <td>NaN</td>\n      <td>NaN</td>\n      <td>NaN</td>\n      <td>NaN</td>\n      <td>NaN</td>\n      <td>NaN</td>\n      <td>NaN</td>\n      <td>NaN</td>\n      <td>3183.686167</td>\n      <td>117.404834</td>\n      <td>...</td>\n      <td>NaN</td>\n      <td>NaN</td>\n      <td>5.116875</td>\n      <td>NaN</td>\n      <td>NaN</td>\n      <td>8306.041270</td>\n      <td>NaN</td>\n      <td>NaN</td>\n      <td>NaN</td>\n      <td>NaN</td>\n    </tr>\n    <tr>\n      <th>min</th>\n      <td>NaN</td>\n      <td>NaN</td>\n      <td>NaN</td>\n      <td>NaN</td>\n      <td>NaN</td>\n      <td>NaN</td>\n      <td>NaN</td>\n      <td>NaN</td>\n      <td>303.645417</td>\n      <td>-1.000000</td>\n      <td>...</td>\n      <td>NaN</td>\n      <td>NaN</td>\n      <td>20.000000</td>\n      <td>NaN</td>\n      <td>NaN</td>\n      <td>0.000000</td>\n      <td>NaN</td>\n      <td>NaN</td>\n      <td>NaN</td>\n      <td>NaN</td>\n    </tr>\n    <tr>\n      <th>25%</th>\n      <td>NaN</td>\n      <td>NaN</td>\n      <td>NaN</td>\n      <td>NaN</td>\n      <td>NaN</td>\n      <td>NaN</td>\n      <td>NaN</td>\n      <td>NaN</td>\n      <td>1625.568229</td>\n      <td>3.000000</td>\n      <td>...</td>\n      <td>NaN</td>\n      <td>NaN</td>\n      <td>28.052567</td>\n      <td>NaN</td>\n      <td>NaN</td>\n      <td>30.306660</td>\n      <td>NaN</td>\n      <td>NaN</td>\n      <td>NaN</td>\n      <td>NaN</td>\n    </tr>\n    <tr>\n      <th>50%</th>\n      <td>NaN</td>\n      <td>NaN</td>\n      <td>NaN</td>\n      <td>NaN</td>\n      <td>NaN</td>\n      <td>NaN</td>\n      <td>NaN</td>\n      <td>NaN</td>\n      <td>3093.745000</td>\n      <td>6.000000</td>\n      <td>...</td>\n      <td>NaN</td>\n      <td>NaN</td>\n      <td>32.305784</td>\n      <td>NaN</td>\n      <td>NaN</td>\n      <td>69.249473</td>\n      <td>NaN</td>\n      <td>NaN</td>\n      <td>NaN</td>\n      <td>NaN</td>\n    </tr>\n    <tr>\n      <th>75%</th>\n      <td>NaN</td>\n      <td>NaN</td>\n      <td>NaN</td>\n      <td>NaN</td>\n      <td>NaN</td>\n      <td>NaN</td>\n      <td>NaN</td>\n      <td>NaN</td>\n      <td>5957.448333</td>\n      <td>7.000000</td>\n      <td>...</td>\n      <td>NaN</td>\n      <td>NaN</td>\n      <td>36.496663</td>\n      <td>NaN</td>\n      <td>NaN</td>\n      <td>161.224249</td>\n      <td>NaN</td>\n      <td>NaN</td>\n      <td>NaN</td>\n      <td>NaN</td>\n    </tr>\n    <tr>\n      <th>max</th>\n      <td>NaN</td>\n      <td>NaN</td>\n      <td>NaN</td>\n      <td>NaN</td>\n      <td>NaN</td>\n      <td>NaN</td>\n      <td>NaN</td>\n      <td>NaN</td>\n      <td>15204.633333</td>\n      <td>1798.000000</td>\n      <td>...</td>\n      <td>NaN</td>\n      <td>NaN</td>\n      <td>50.000000</td>\n      <td>NaN</td>\n      <td>NaN</td>\n      <td>82331.000000</td>\n      <td>NaN</td>\n      <td>NaN</td>\n      <td>NaN</td>\n      <td>NaN</td>\n    </tr>\n  </tbody>\n</table>\n<p>11 rows × 28 columns</p>\n</div>"
     },
     "execution_count": 6,
     "metadata": {},
     "output_type": "execute_result"
    }
   ],
   "source": [
    "df_train.describe(include=\"all\")"
   ],
   "metadata": {
    "collapsed": false,
    "pycharm": {
     "name": "#%%\n"
    }
   }
  },
  {
   "cell_type": "code",
   "execution_count": 7,
   "outputs": [
    {
     "data": {
      "text/plain": "            ID Customer_ID      Month    Name    Age        SSN Occupation  \\\ncount    50000       50000      50000   44985  50000      50000      50000   \nunique   50000       12500          4   10139    976      12501         16   \ntop     0x160a   CUS_0xd40  September  Stevex     39  #F%$D@*&8    _______   \nfreq         1           4      12500      22   1493       2828       3438   \nmean       NaN         NaN        NaN     NaN    NaN        NaN        NaN   \nstd        NaN         NaN        NaN     NaN    NaN        NaN        NaN   \nmin        NaN         NaN        NaN     NaN    NaN        NaN        NaN   \n25%        NaN         NaN        NaN     NaN    NaN        NaN        NaN   \n50%        NaN         NaN        NaN     NaN    NaN        NaN        NaN   \n75%        NaN         NaN        NaN     NaN    NaN        NaN        NaN   \nmax        NaN         NaN        NaN     NaN    NaN        NaN        NaN   \n\n       Annual_Income  Monthly_Inhand_Salary  Num_Bank_Accounts  ...  \\\ncount          50000           42502.000000       50000.000000  ...   \nunique         16121                    NaN                NaN  ...   \ntop        109945.32                    NaN                NaN  ...   \nfreq               8                    NaN                NaN  ...   \nmean             NaN            4182.004291          16.838260  ...   \nstd              NaN            3174.109304         116.396848  ...   \nmin              NaN             303.645417          -1.000000  ...   \n25%              NaN            1625.188333           3.000000  ...   \n50%              NaN            3086.305000           6.000000  ...   \n75%              NaN            5934.189094           7.000000  ...   \nmax              NaN           15204.633333        1798.000000  ...   \n\n        Num_Credit_Inquiries  Credit_Mix Outstanding_Debt  \\\ncount           48965.000000       50000            50000   \nunique                   NaN           4            12685   \ntop                      NaN    Standard          1109.03   \nfreq                     NaN       18379               12   \nmean               30.080200         NaN              NaN   \nstd               196.984121         NaN              NaN   \nmin                 0.000000         NaN              NaN   \n25%                 4.000000         NaN              NaN   \n50%                 7.000000         NaN              NaN   \n75%                10.000000         NaN              NaN   \nmax              2593.000000         NaN              NaN   \n\n       Credit_Utilization_Ratio     Credit_History_Age Payment_of_Min_Amount  \\\ncount              50000.000000                  45530                 50000   \nunique                      NaN                    399                     3   \ntop                         NaN  20 Years and 1 Months                   Yes   \nfreq                        NaN                    254                 26158   \nmean                  32.279581                    NaN                   NaN   \nstd                    5.106238                    NaN                   NaN   \nmin                   20.509652                    NaN                   NaN   \n25%                   28.061040                    NaN                   NaN   \n50%                   32.280390                    NaN                   NaN   \n75%                   36.468591                    NaN                   NaN   \nmax                   48.540663                    NaN                   NaN   \n\n       Total_EMI_per_month  Amount_invested_monthly  \\\ncount         50000.000000                    47729   \nunique                 NaN                    45450   \ntop                    NaN                __10000__   \nfreq                   NaN                     2175   \nmean           1491.304305                      NaN   \nstd            8595.647887                      NaN   \nmin               0.000000                      NaN   \n25%              32.222388                      NaN   \n50%              74.733349                      NaN   \n75%             176.157491                      NaN   \nmax           82398.000000                      NaN   \n\n                     Payment_Behaviour                   Monthly_Balance  \ncount                            50000                             49438  \nunique                               7                             49433  \ntop     Low_spent_Small_value_payments  __-333333333333333333333333333__  \nfreq                             12694                                 6  \nmean                               NaN                               NaN  \nstd                                NaN                               NaN  \nmin                                NaN                               NaN  \n25%                                NaN                               NaN  \n50%                                NaN                               NaN  \n75%                                NaN                               NaN  \nmax                                NaN                               NaN  \n\n[11 rows x 27 columns]",
      "text/html": "<div>\n<style scoped>\n    .dataframe tbody tr th:only-of-type {\n        vertical-align: middle;\n    }\n\n    .dataframe tbody tr th {\n        vertical-align: top;\n    }\n\n    .dataframe thead th {\n        text-align: right;\n    }\n</style>\n<table border=\"1\" class=\"dataframe\">\n  <thead>\n    <tr style=\"text-align: right;\">\n      <th></th>\n      <th>ID</th>\n      <th>Customer_ID</th>\n      <th>Month</th>\n      <th>Name</th>\n      <th>Age</th>\n      <th>SSN</th>\n      <th>Occupation</th>\n      <th>Annual_Income</th>\n      <th>Monthly_Inhand_Salary</th>\n      <th>Num_Bank_Accounts</th>\n      <th>...</th>\n      <th>Num_Credit_Inquiries</th>\n      <th>Credit_Mix</th>\n      <th>Outstanding_Debt</th>\n      <th>Credit_Utilization_Ratio</th>\n      <th>Credit_History_Age</th>\n      <th>Payment_of_Min_Amount</th>\n      <th>Total_EMI_per_month</th>\n      <th>Amount_invested_monthly</th>\n      <th>Payment_Behaviour</th>\n      <th>Monthly_Balance</th>\n    </tr>\n  </thead>\n  <tbody>\n    <tr>\n      <th>count</th>\n      <td>50000</td>\n      <td>50000</td>\n      <td>50000</td>\n      <td>44985</td>\n      <td>50000</td>\n      <td>50000</td>\n      <td>50000</td>\n      <td>50000</td>\n      <td>42502.000000</td>\n      <td>50000.000000</td>\n      <td>...</td>\n      <td>48965.000000</td>\n      <td>50000</td>\n      <td>50000</td>\n      <td>50000.000000</td>\n      <td>45530</td>\n      <td>50000</td>\n      <td>50000.000000</td>\n      <td>47729</td>\n      <td>50000</td>\n      <td>49438</td>\n    </tr>\n    <tr>\n      <th>unique</th>\n      <td>50000</td>\n      <td>12500</td>\n      <td>4</td>\n      <td>10139</td>\n      <td>976</td>\n      <td>12501</td>\n      <td>16</td>\n      <td>16121</td>\n      <td>NaN</td>\n      <td>NaN</td>\n      <td>...</td>\n      <td>NaN</td>\n      <td>4</td>\n      <td>12685</td>\n      <td>NaN</td>\n      <td>399</td>\n      <td>3</td>\n      <td>NaN</td>\n      <td>45450</td>\n      <td>7</td>\n      <td>49433</td>\n    </tr>\n    <tr>\n      <th>top</th>\n      <td>0x160a</td>\n      <td>CUS_0xd40</td>\n      <td>September</td>\n      <td>Stevex</td>\n      <td>39</td>\n      <td>#F%$D@*&amp;8</td>\n      <td>_______</td>\n      <td>109945.32</td>\n      <td>NaN</td>\n      <td>NaN</td>\n      <td>...</td>\n      <td>NaN</td>\n      <td>Standard</td>\n      <td>1109.03</td>\n      <td>NaN</td>\n      <td>20 Years and 1 Months</td>\n      <td>Yes</td>\n      <td>NaN</td>\n      <td>__10000__</td>\n      <td>Low_spent_Small_value_payments</td>\n      <td>__-333333333333333333333333333__</td>\n    </tr>\n    <tr>\n      <th>freq</th>\n      <td>1</td>\n      <td>4</td>\n      <td>12500</td>\n      <td>22</td>\n      <td>1493</td>\n      <td>2828</td>\n      <td>3438</td>\n      <td>8</td>\n      <td>NaN</td>\n      <td>NaN</td>\n      <td>...</td>\n      <td>NaN</td>\n      <td>18379</td>\n      <td>12</td>\n      <td>NaN</td>\n      <td>254</td>\n      <td>26158</td>\n      <td>NaN</td>\n      <td>2175</td>\n      <td>12694</td>\n      <td>6</td>\n    </tr>\n    <tr>\n      <th>mean</th>\n      <td>NaN</td>\n      <td>NaN</td>\n      <td>NaN</td>\n      <td>NaN</td>\n      <td>NaN</td>\n      <td>NaN</td>\n      <td>NaN</td>\n      <td>NaN</td>\n      <td>4182.004291</td>\n      <td>16.838260</td>\n      <td>...</td>\n      <td>30.080200</td>\n      <td>NaN</td>\n      <td>NaN</td>\n      <td>32.279581</td>\n      <td>NaN</td>\n      <td>NaN</td>\n      <td>1491.304305</td>\n      <td>NaN</td>\n      <td>NaN</td>\n      <td>NaN</td>\n    </tr>\n    <tr>\n      <th>std</th>\n      <td>NaN</td>\n      <td>NaN</td>\n      <td>NaN</td>\n      <td>NaN</td>\n      <td>NaN</td>\n      <td>NaN</td>\n      <td>NaN</td>\n      <td>NaN</td>\n      <td>3174.109304</td>\n      <td>116.396848</td>\n      <td>...</td>\n      <td>196.984121</td>\n      <td>NaN</td>\n      <td>NaN</td>\n      <td>5.106238</td>\n      <td>NaN</td>\n      <td>NaN</td>\n      <td>8595.647887</td>\n      <td>NaN</td>\n      <td>NaN</td>\n      <td>NaN</td>\n    </tr>\n    <tr>\n      <th>min</th>\n      <td>NaN</td>\n      <td>NaN</td>\n      <td>NaN</td>\n      <td>NaN</td>\n      <td>NaN</td>\n      <td>NaN</td>\n      <td>NaN</td>\n      <td>NaN</td>\n      <td>303.645417</td>\n      <td>-1.000000</td>\n      <td>...</td>\n      <td>0.000000</td>\n      <td>NaN</td>\n      <td>NaN</td>\n      <td>20.509652</td>\n      <td>NaN</td>\n      <td>NaN</td>\n      <td>0.000000</td>\n      <td>NaN</td>\n      <td>NaN</td>\n      <td>NaN</td>\n    </tr>\n    <tr>\n      <th>25%</th>\n      <td>NaN</td>\n      <td>NaN</td>\n      <td>NaN</td>\n      <td>NaN</td>\n      <td>NaN</td>\n      <td>NaN</td>\n      <td>NaN</td>\n      <td>NaN</td>\n      <td>1625.188333</td>\n      <td>3.000000</td>\n      <td>...</td>\n      <td>4.000000</td>\n      <td>NaN</td>\n      <td>NaN</td>\n      <td>28.061040</td>\n      <td>NaN</td>\n      <td>NaN</td>\n      <td>32.222388</td>\n      <td>NaN</td>\n      <td>NaN</td>\n      <td>NaN</td>\n    </tr>\n    <tr>\n      <th>50%</th>\n      <td>NaN</td>\n      <td>NaN</td>\n      <td>NaN</td>\n      <td>NaN</td>\n      <td>NaN</td>\n      <td>NaN</td>\n      <td>NaN</td>\n      <td>NaN</td>\n      <td>3086.305000</td>\n      <td>6.000000</td>\n      <td>...</td>\n      <td>7.000000</td>\n      <td>NaN</td>\n      <td>NaN</td>\n      <td>32.280390</td>\n      <td>NaN</td>\n      <td>NaN</td>\n      <td>74.733349</td>\n      <td>NaN</td>\n      <td>NaN</td>\n      <td>NaN</td>\n    </tr>\n    <tr>\n      <th>75%</th>\n      <td>NaN</td>\n      <td>NaN</td>\n      <td>NaN</td>\n      <td>NaN</td>\n      <td>NaN</td>\n      <td>NaN</td>\n      <td>NaN</td>\n      <td>NaN</td>\n      <td>5934.189094</td>\n      <td>7.000000</td>\n      <td>...</td>\n      <td>10.000000</td>\n      <td>NaN</td>\n      <td>NaN</td>\n      <td>36.468591</td>\n      <td>NaN</td>\n      <td>NaN</td>\n      <td>176.157491</td>\n      <td>NaN</td>\n      <td>NaN</td>\n      <td>NaN</td>\n    </tr>\n    <tr>\n      <th>max</th>\n      <td>NaN</td>\n      <td>NaN</td>\n      <td>NaN</td>\n      <td>NaN</td>\n      <td>NaN</td>\n      <td>NaN</td>\n      <td>NaN</td>\n      <td>NaN</td>\n      <td>15204.633333</td>\n      <td>1798.000000</td>\n      <td>...</td>\n      <td>2593.000000</td>\n      <td>NaN</td>\n      <td>NaN</td>\n      <td>48.540663</td>\n      <td>NaN</td>\n      <td>NaN</td>\n      <td>82398.000000</td>\n      <td>NaN</td>\n      <td>NaN</td>\n      <td>NaN</td>\n    </tr>\n  </tbody>\n</table>\n<p>11 rows × 27 columns</p>\n</div>"
     },
     "execution_count": 7,
     "metadata": {},
     "output_type": "execute_result"
    }
   ],
   "source": [
    "df_test.describe(include=\"all\")"
   ],
   "metadata": {
    "collapsed": false,
    "pycharm": {
     "name": "#%%\n"
    }
   }
  },
  {
   "cell_type": "code",
   "execution_count": null,
   "outputs": [],
   "source": [],
   "metadata": {
    "collapsed": false,
    "pycharm": {
     "name": "#%%\n"
    }
   }
  }
 ],
 "metadata": {
  "kernelspec": {
   "display_name": "Python 3",
   "language": "python",
   "name": "python3"
  },
  "language_info": {
   "codemirror_mode": {
    "name": "ipython",
    "version": 2
   },
   "file_extension": ".py",
   "mimetype": "text/x-python",
   "name": "python",
   "nbconvert_exporter": "python",
   "pygments_lexer": "ipython2",
   "version": "2.7.6"
  }
 },
 "nbformat": 4,
 "nbformat_minor": 0
}