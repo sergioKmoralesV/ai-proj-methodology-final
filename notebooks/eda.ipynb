{
 "cells": [
  {
   "cell_type": "markdown",
   "source": [
    "## Exploratory data analysis\n",
    "AI project methodology - EPITA"
   ],
   "metadata": {
    "collapsed": false,
    "pycharm": {
     "name": "#%% md\n"
    }
   }
  },
  {
   "cell_type": "markdown",
   "source": [
    "### Packages import"
   ],
   "metadata": {
    "collapsed": false,
    "pycharm": {
     "name": "#%% md\n"
    }
   }
  },
  {
   "cell_type": "code",
   "execution_count": 2,
   "outputs": [],
   "source": [
    "import numpy as np\n",
    "import pandas as pd\n",
    "import matplotlib.pyplot as plt\n",
    "import seaborn as sns"
   ],
   "metadata": {
    "collapsed": false,
    "pycharm": {
     "name": "#%%\n"
    }
   }
  },
  {
   "cell_type": "markdown",
   "source": [
    "## Importing data\n",
    "- Import both csv files. We use the option `low_memory=False` since the training dataset has a lot of fields and those have many types of data."
   ],
   "metadata": {
    "collapsed": false,
    "pycharm": {
     "name": "#%% md\n"
    }
   }
  },
  {
   "cell_type": "code",
   "execution_count": 3,
   "outputs": [
    {
     "data": {
      "text/plain": "((100000, 28), (50000, 27))"
     },
     "execution_count": 3,
     "metadata": {},
     "output_type": "execute_result"
    }
   ],
   "source": [
    "df_train = pd.read_csv('../data/train.csv', low_memory=False)\n",
    "df_test = pd.read_csv('../data/test.csv')\n",
    "df_train.shape, df_test.shape"
   ],
   "metadata": {
    "collapsed": false,
    "pycharm": {
     "name": "#%%\n"
    }
   }
  },
  {
   "cell_type": "markdown",
   "source": [
    "- We review the description of the pandas DataFrames (only numerical values)"
   ],
   "metadata": {
    "collapsed": false,
    "pycharm": {
     "name": "#%% md\n"
    }
   }
  },
  {
   "cell_type": "code",
   "execution_count": 4,
   "outputs": [
    {
     "data": {
      "text/plain": "                             count         mean          std         min  \\\nMonthly_Inhand_Salary      84998.0  4194.170850  3183.686167  303.645417   \nNum_Bank_Accounts         100000.0    17.091280   117.404834   -1.000000   \nNum_Credit_Card           100000.0    22.474430   129.057410    0.000000   \nInterest_Rate             100000.0    72.466040   466.422621    1.000000   \nDelay_from_due_date       100000.0    21.068780    14.860104   -5.000000   \nNum_Credit_Inquiries       98035.0    27.754251   193.177339    0.000000   \nCredit_Utilization_Ratio  100000.0    32.285173     5.116875   20.000000   \nTotal_EMI_per_month       100000.0  1403.118217  8306.041270    0.000000   \n\n                                  25%          50%          75%           max  \nMonthly_Inhand_Salary     1625.568229  3093.745000  5957.448333  15204.633333  \nNum_Bank_Accounts            3.000000     6.000000     7.000000   1798.000000  \nNum_Credit_Card              4.000000     5.000000     7.000000   1499.000000  \nInterest_Rate                8.000000    13.000000    20.000000   5797.000000  \nDelay_from_due_date         10.000000    18.000000    28.000000     67.000000  \nNum_Credit_Inquiries         3.000000     6.000000     9.000000   2597.000000  \nCredit_Utilization_Ratio    28.052567    32.305784    36.496663     50.000000  \nTotal_EMI_per_month         30.306660    69.249473   161.224249  82331.000000  ",
      "text/html": "<div>\n<style scoped>\n    .dataframe tbody tr th:only-of-type {\n        vertical-align: middle;\n    }\n\n    .dataframe tbody tr th {\n        vertical-align: top;\n    }\n\n    .dataframe thead th {\n        text-align: right;\n    }\n</style>\n<table border=\"1\" class=\"dataframe\">\n  <thead>\n    <tr style=\"text-align: right;\">\n      <th></th>\n      <th>count</th>\n      <th>mean</th>\n      <th>std</th>\n      <th>min</th>\n      <th>25%</th>\n      <th>50%</th>\n      <th>75%</th>\n      <th>max</th>\n    </tr>\n  </thead>\n  <tbody>\n    <tr>\n      <th>Monthly_Inhand_Salary</th>\n      <td>84998.0</td>\n      <td>4194.170850</td>\n      <td>3183.686167</td>\n      <td>303.645417</td>\n      <td>1625.568229</td>\n      <td>3093.745000</td>\n      <td>5957.448333</td>\n      <td>15204.633333</td>\n    </tr>\n    <tr>\n      <th>Num_Bank_Accounts</th>\n      <td>100000.0</td>\n      <td>17.091280</td>\n      <td>117.404834</td>\n      <td>-1.000000</td>\n      <td>3.000000</td>\n      <td>6.000000</td>\n      <td>7.000000</td>\n      <td>1798.000000</td>\n    </tr>\n    <tr>\n      <th>Num_Credit_Card</th>\n      <td>100000.0</td>\n      <td>22.474430</td>\n      <td>129.057410</td>\n      <td>0.000000</td>\n      <td>4.000000</td>\n      <td>5.000000</td>\n      <td>7.000000</td>\n      <td>1499.000000</td>\n    </tr>\n    <tr>\n      <th>Interest_Rate</th>\n      <td>100000.0</td>\n      <td>72.466040</td>\n      <td>466.422621</td>\n      <td>1.000000</td>\n      <td>8.000000</td>\n      <td>13.000000</td>\n      <td>20.000000</td>\n      <td>5797.000000</td>\n    </tr>\n    <tr>\n      <th>Delay_from_due_date</th>\n      <td>100000.0</td>\n      <td>21.068780</td>\n      <td>14.860104</td>\n      <td>-5.000000</td>\n      <td>10.000000</td>\n      <td>18.000000</td>\n      <td>28.000000</td>\n      <td>67.000000</td>\n    </tr>\n    <tr>\n      <th>Num_Credit_Inquiries</th>\n      <td>98035.0</td>\n      <td>27.754251</td>\n      <td>193.177339</td>\n      <td>0.000000</td>\n      <td>3.000000</td>\n      <td>6.000000</td>\n      <td>9.000000</td>\n      <td>2597.000000</td>\n    </tr>\n    <tr>\n      <th>Credit_Utilization_Ratio</th>\n      <td>100000.0</td>\n      <td>32.285173</td>\n      <td>5.116875</td>\n      <td>20.000000</td>\n      <td>28.052567</td>\n      <td>32.305784</td>\n      <td>36.496663</td>\n      <td>50.000000</td>\n    </tr>\n    <tr>\n      <th>Total_EMI_per_month</th>\n      <td>100000.0</td>\n      <td>1403.118217</td>\n      <td>8306.041270</td>\n      <td>0.000000</td>\n      <td>30.306660</td>\n      <td>69.249473</td>\n      <td>161.224249</td>\n      <td>82331.000000</td>\n    </tr>\n  </tbody>\n</table>\n</div>"
     },
     "execution_count": 4,
     "metadata": {},
     "output_type": "execute_result"
    }
   ],
   "source": [
    "df_train.describe(include=\"number\").T"
   ],
   "metadata": {
    "collapsed": false,
    "pycharm": {
     "name": "#%%\n"
    }
   }
  },
  {
   "cell_type": "code",
   "execution_count": 5,
   "outputs": [
    {
     "data": {
      "text/plain": "                            count         mean          std         min  \\\nMonthly_Inhand_Salary     42502.0  4182.004291  3174.109304  303.645417   \nNum_Bank_Accounts         50000.0    16.838260   116.396848   -1.000000   \nNum_Credit_Card           50000.0    22.921480   129.314804    0.000000   \nInterest_Rate             50000.0    68.772640   451.602363    1.000000   \nDelay_from_due_date       50000.0    21.052640    14.860397   -5.000000   \nNum_Credit_Inquiries      48965.0    30.080200   196.984121    0.000000   \nCredit_Utilization_Ratio  50000.0    32.279581     5.106238   20.509652   \nTotal_EMI_per_month       50000.0  1491.304305  8595.647887    0.000000   \n\n                                  25%          50%          75%           max  \nMonthly_Inhand_Salary     1625.188333  3086.305000  5934.189094  15204.633333  \nNum_Bank_Accounts            3.000000     6.000000     7.000000   1798.000000  \nNum_Credit_Card              4.000000     5.000000     7.000000   1499.000000  \nInterest_Rate                8.000000    13.000000    20.000000   5799.000000  \nDelay_from_due_date         10.000000    18.000000    28.000000     67.000000  \nNum_Credit_Inquiries         4.000000     7.000000    10.000000   2593.000000  \nCredit_Utilization_Ratio    28.061040    32.280390    36.468591     48.540663  \nTotal_EMI_per_month         32.222388    74.733349   176.157491  82398.000000  ",
      "text/html": "<div>\n<style scoped>\n    .dataframe tbody tr th:only-of-type {\n        vertical-align: middle;\n    }\n\n    .dataframe tbody tr th {\n        vertical-align: top;\n    }\n\n    .dataframe thead th {\n        text-align: right;\n    }\n</style>\n<table border=\"1\" class=\"dataframe\">\n  <thead>\n    <tr style=\"text-align: right;\">\n      <th></th>\n      <th>count</th>\n      <th>mean</th>\n      <th>std</th>\n      <th>min</th>\n      <th>25%</th>\n      <th>50%</th>\n      <th>75%</th>\n      <th>max</th>\n    </tr>\n  </thead>\n  <tbody>\n    <tr>\n      <th>Monthly_Inhand_Salary</th>\n      <td>42502.0</td>\n      <td>4182.004291</td>\n      <td>3174.109304</td>\n      <td>303.645417</td>\n      <td>1625.188333</td>\n      <td>3086.305000</td>\n      <td>5934.189094</td>\n      <td>15204.633333</td>\n    </tr>\n    <tr>\n      <th>Num_Bank_Accounts</th>\n      <td>50000.0</td>\n      <td>16.838260</td>\n      <td>116.396848</td>\n      <td>-1.000000</td>\n      <td>3.000000</td>\n      <td>6.000000</td>\n      <td>7.000000</td>\n      <td>1798.000000</td>\n    </tr>\n    <tr>\n      <th>Num_Credit_Card</th>\n      <td>50000.0</td>\n      <td>22.921480</td>\n      <td>129.314804</td>\n      <td>0.000000</td>\n      <td>4.000000</td>\n      <td>5.000000</td>\n      <td>7.000000</td>\n      <td>1499.000000</td>\n    </tr>\n    <tr>\n      <th>Interest_Rate</th>\n      <td>50000.0</td>\n      <td>68.772640</td>\n      <td>451.602363</td>\n      <td>1.000000</td>\n      <td>8.000000</td>\n      <td>13.000000</td>\n      <td>20.000000</td>\n      <td>5799.000000</td>\n    </tr>\n    <tr>\n      <th>Delay_from_due_date</th>\n      <td>50000.0</td>\n      <td>21.052640</td>\n      <td>14.860397</td>\n      <td>-5.000000</td>\n      <td>10.000000</td>\n      <td>18.000000</td>\n      <td>28.000000</td>\n      <td>67.000000</td>\n    </tr>\n    <tr>\n      <th>Num_Credit_Inquiries</th>\n      <td>48965.0</td>\n      <td>30.080200</td>\n      <td>196.984121</td>\n      <td>0.000000</td>\n      <td>4.000000</td>\n      <td>7.000000</td>\n      <td>10.000000</td>\n      <td>2593.000000</td>\n    </tr>\n    <tr>\n      <th>Credit_Utilization_Ratio</th>\n      <td>50000.0</td>\n      <td>32.279581</td>\n      <td>5.106238</td>\n      <td>20.509652</td>\n      <td>28.061040</td>\n      <td>32.280390</td>\n      <td>36.468591</td>\n      <td>48.540663</td>\n    </tr>\n    <tr>\n      <th>Total_EMI_per_month</th>\n      <td>50000.0</td>\n      <td>1491.304305</td>\n      <td>8595.647887</td>\n      <td>0.000000</td>\n      <td>32.222388</td>\n      <td>74.733349</td>\n      <td>176.157491</td>\n      <td>82398.000000</td>\n    </tr>\n  </tbody>\n</table>\n</div>"
     },
     "execution_count": 5,
     "metadata": {},
     "output_type": "execute_result"
    }
   ],
   "source": [
    "df_test.describe(include=\"number\").T"
   ],
   "metadata": {
    "collapsed": false,
    "pycharm": {
     "name": "#%%\n"
    }
   }
  },
  {
   "cell_type": "markdown",
   "source": [
    "- Describe dataset (only categorical values)"
   ],
   "metadata": {
    "collapsed": false,
    "pycharm": {
     "name": "#%% md\n"
    }
   }
  },
  {
   "cell_type": "code",
   "execution_count": 6,
   "outputs": [
    {
     "data": {
      "text/plain": "                          count  unique                               top  \\\nID                       100000  100000                            0x1602   \nCustomer_ID              100000   12500                         CUS_0xd40   \nMonth                    100000       8                           January   \nName                      90015   10139                            Langep   \nAge                      100000    1788                                38   \nSSN                      100000   12501                         #F%$D@*&8   \nOccupation               100000      16                           _______   \nAnnual_Income            100000   18940                          36585.12   \nNum_of_Loan              100000     434                                 3   \nType_of_Loan              88592    6260                     Not Specified   \nNum_of_Delayed_Payment    92998     749                                19   \nChanged_Credit_Limit     100000    4384                                 _   \nCredit_Mix               100000       4                          Standard   \nOutstanding_Debt         100000   13178                           1360.45   \nCredit_History_Age        90970     404            15 Years and 11 Months   \nPayment_of_Min_Amount    100000       3                               Yes   \nAmount_invested_monthly   95521   91049                         __10000__   \nPayment_Behaviour        100000       7    Low_spent_Small_value_payments   \nMonthly_Balance           98800   98792  __-333333333333333333333333333__   \nCredit_Score             100000       3                          Standard   \n\n                          freq  \nID                           1  \nCustomer_ID                  8  \nMonth                    12500  \nName                        44  \nAge                       2833  \nSSN                       5572  \nOccupation                7062  \nAnnual_Income               16  \nNum_of_Loan              14386  \nType_of_Loan              1408  \nNum_of_Delayed_Payment    5327  \nChanged_Credit_Limit      2091  \nCredit_Mix               36479  \nOutstanding_Debt            24  \nCredit_History_Age         446  \nPayment_of_Min_Amount    52326  \nAmount_invested_monthly   4305  \nPayment_Behaviour        25513  \nMonthly_Balance              9  \nCredit_Score             53174  ",
      "text/html": "<div>\n<style scoped>\n    .dataframe tbody tr th:only-of-type {\n        vertical-align: middle;\n    }\n\n    .dataframe tbody tr th {\n        vertical-align: top;\n    }\n\n    .dataframe thead th {\n        text-align: right;\n    }\n</style>\n<table border=\"1\" class=\"dataframe\">\n  <thead>\n    <tr style=\"text-align: right;\">\n      <th></th>\n      <th>count</th>\n      <th>unique</th>\n      <th>top</th>\n      <th>freq</th>\n    </tr>\n  </thead>\n  <tbody>\n    <tr>\n      <th>ID</th>\n      <td>100000</td>\n      <td>100000</td>\n      <td>0x1602</td>\n      <td>1</td>\n    </tr>\n    <tr>\n      <th>Customer_ID</th>\n      <td>100000</td>\n      <td>12500</td>\n      <td>CUS_0xd40</td>\n      <td>8</td>\n    </tr>\n    <tr>\n      <th>Month</th>\n      <td>100000</td>\n      <td>8</td>\n      <td>January</td>\n      <td>12500</td>\n    </tr>\n    <tr>\n      <th>Name</th>\n      <td>90015</td>\n      <td>10139</td>\n      <td>Langep</td>\n      <td>44</td>\n    </tr>\n    <tr>\n      <th>Age</th>\n      <td>100000</td>\n      <td>1788</td>\n      <td>38</td>\n      <td>2833</td>\n    </tr>\n    <tr>\n      <th>SSN</th>\n      <td>100000</td>\n      <td>12501</td>\n      <td>#F%$D@*&amp;8</td>\n      <td>5572</td>\n    </tr>\n    <tr>\n      <th>Occupation</th>\n      <td>100000</td>\n      <td>16</td>\n      <td>_______</td>\n      <td>7062</td>\n    </tr>\n    <tr>\n      <th>Annual_Income</th>\n      <td>100000</td>\n      <td>18940</td>\n      <td>36585.12</td>\n      <td>16</td>\n    </tr>\n    <tr>\n      <th>Num_of_Loan</th>\n      <td>100000</td>\n      <td>434</td>\n      <td>3</td>\n      <td>14386</td>\n    </tr>\n    <tr>\n      <th>Type_of_Loan</th>\n      <td>88592</td>\n      <td>6260</td>\n      <td>Not Specified</td>\n      <td>1408</td>\n    </tr>\n    <tr>\n      <th>Num_of_Delayed_Payment</th>\n      <td>92998</td>\n      <td>749</td>\n      <td>19</td>\n      <td>5327</td>\n    </tr>\n    <tr>\n      <th>Changed_Credit_Limit</th>\n      <td>100000</td>\n      <td>4384</td>\n      <td>_</td>\n      <td>2091</td>\n    </tr>\n    <tr>\n      <th>Credit_Mix</th>\n      <td>100000</td>\n      <td>4</td>\n      <td>Standard</td>\n      <td>36479</td>\n    </tr>\n    <tr>\n      <th>Outstanding_Debt</th>\n      <td>100000</td>\n      <td>13178</td>\n      <td>1360.45</td>\n      <td>24</td>\n    </tr>\n    <tr>\n      <th>Credit_History_Age</th>\n      <td>90970</td>\n      <td>404</td>\n      <td>15 Years and 11 Months</td>\n      <td>446</td>\n    </tr>\n    <tr>\n      <th>Payment_of_Min_Amount</th>\n      <td>100000</td>\n      <td>3</td>\n      <td>Yes</td>\n      <td>52326</td>\n    </tr>\n    <tr>\n      <th>Amount_invested_monthly</th>\n      <td>95521</td>\n      <td>91049</td>\n      <td>__10000__</td>\n      <td>4305</td>\n    </tr>\n    <tr>\n      <th>Payment_Behaviour</th>\n      <td>100000</td>\n      <td>7</td>\n      <td>Low_spent_Small_value_payments</td>\n      <td>25513</td>\n    </tr>\n    <tr>\n      <th>Monthly_Balance</th>\n      <td>98800</td>\n      <td>98792</td>\n      <td>__-333333333333333333333333333__</td>\n      <td>9</td>\n    </tr>\n    <tr>\n      <th>Credit_Score</th>\n      <td>100000</td>\n      <td>3</td>\n      <td>Standard</td>\n      <td>53174</td>\n    </tr>\n  </tbody>\n</table>\n</div>"
     },
     "execution_count": 6,
     "metadata": {},
     "output_type": "execute_result"
    }
   ],
   "source": [
    "df_train.describe(include=\"object\").T"
   ],
   "metadata": {
    "collapsed": false,
    "pycharm": {
     "name": "#%%\n"
    }
   }
  },
  {
   "cell_type": "code",
   "execution_count": 7,
   "outputs": [
    {
     "data": {
      "text/plain": "                         count unique                               top   freq\nID                       50000  50000                            0x160a      1\nCustomer_ID              50000  12500                         CUS_0xd40      4\nMonth                    50000      4                         September  12500\nName                     44985  10139                            Stevex     22\nAge                      50000    976                                39   1493\nSSN                      50000  12501                         #F%$D@*&8   2828\nOccupation               50000     16                           _______   3438\nAnnual_Income            50000  16121                         109945.32      8\nNum_of_Loan              50000    263                                 2   7173\nType_of_Loan             44296   6260                     Not Specified    704\nNum_of_Delayed_Payment   46502    443                                19   2622\nChanged_Credit_Limit     50000   3927                                 _   1059\nCredit_Mix               50000      4                          Standard  18379\nOutstanding_Debt         50000  12685                           1109.03     12\nCredit_History_Age       45530    399             20 Years and 1 Months    254\nPayment_of_Min_Amount    50000      3                               Yes  26158\nAmount_invested_monthly  47729  45450                         __10000__   2175\nPayment_Behaviour        50000      7    Low_spent_Small_value_payments  12694\nMonthly_Balance          49438  49433  __-333333333333333333333333333__      6",
      "text/html": "<div>\n<style scoped>\n    .dataframe tbody tr th:only-of-type {\n        vertical-align: middle;\n    }\n\n    .dataframe tbody tr th {\n        vertical-align: top;\n    }\n\n    .dataframe thead th {\n        text-align: right;\n    }\n</style>\n<table border=\"1\" class=\"dataframe\">\n  <thead>\n    <tr style=\"text-align: right;\">\n      <th></th>\n      <th>count</th>\n      <th>unique</th>\n      <th>top</th>\n      <th>freq</th>\n    </tr>\n  </thead>\n  <tbody>\n    <tr>\n      <th>ID</th>\n      <td>50000</td>\n      <td>50000</td>\n      <td>0x160a</td>\n      <td>1</td>\n    </tr>\n    <tr>\n      <th>Customer_ID</th>\n      <td>50000</td>\n      <td>12500</td>\n      <td>CUS_0xd40</td>\n      <td>4</td>\n    </tr>\n    <tr>\n      <th>Month</th>\n      <td>50000</td>\n      <td>4</td>\n      <td>September</td>\n      <td>12500</td>\n    </tr>\n    <tr>\n      <th>Name</th>\n      <td>44985</td>\n      <td>10139</td>\n      <td>Stevex</td>\n      <td>22</td>\n    </tr>\n    <tr>\n      <th>Age</th>\n      <td>50000</td>\n      <td>976</td>\n      <td>39</td>\n      <td>1493</td>\n    </tr>\n    <tr>\n      <th>SSN</th>\n      <td>50000</td>\n      <td>12501</td>\n      <td>#F%$D@*&amp;8</td>\n      <td>2828</td>\n    </tr>\n    <tr>\n      <th>Occupation</th>\n      <td>50000</td>\n      <td>16</td>\n      <td>_______</td>\n      <td>3438</td>\n    </tr>\n    <tr>\n      <th>Annual_Income</th>\n      <td>50000</td>\n      <td>16121</td>\n      <td>109945.32</td>\n      <td>8</td>\n    </tr>\n    <tr>\n      <th>Num_of_Loan</th>\n      <td>50000</td>\n      <td>263</td>\n      <td>2</td>\n      <td>7173</td>\n    </tr>\n    <tr>\n      <th>Type_of_Loan</th>\n      <td>44296</td>\n      <td>6260</td>\n      <td>Not Specified</td>\n      <td>704</td>\n    </tr>\n    <tr>\n      <th>Num_of_Delayed_Payment</th>\n      <td>46502</td>\n      <td>443</td>\n      <td>19</td>\n      <td>2622</td>\n    </tr>\n    <tr>\n      <th>Changed_Credit_Limit</th>\n      <td>50000</td>\n      <td>3927</td>\n      <td>_</td>\n      <td>1059</td>\n    </tr>\n    <tr>\n      <th>Credit_Mix</th>\n      <td>50000</td>\n      <td>4</td>\n      <td>Standard</td>\n      <td>18379</td>\n    </tr>\n    <tr>\n      <th>Outstanding_Debt</th>\n      <td>50000</td>\n      <td>12685</td>\n      <td>1109.03</td>\n      <td>12</td>\n    </tr>\n    <tr>\n      <th>Credit_History_Age</th>\n      <td>45530</td>\n      <td>399</td>\n      <td>20 Years and 1 Months</td>\n      <td>254</td>\n    </tr>\n    <tr>\n      <th>Payment_of_Min_Amount</th>\n      <td>50000</td>\n      <td>3</td>\n      <td>Yes</td>\n      <td>26158</td>\n    </tr>\n    <tr>\n      <th>Amount_invested_monthly</th>\n      <td>47729</td>\n      <td>45450</td>\n      <td>__10000__</td>\n      <td>2175</td>\n    </tr>\n    <tr>\n      <th>Payment_Behaviour</th>\n      <td>50000</td>\n      <td>7</td>\n      <td>Low_spent_Small_value_payments</td>\n      <td>12694</td>\n    </tr>\n    <tr>\n      <th>Monthly_Balance</th>\n      <td>49438</td>\n      <td>49433</td>\n      <td>__-333333333333333333333333333__</td>\n      <td>6</td>\n    </tr>\n  </tbody>\n</table>\n</div>"
     },
     "execution_count": 7,
     "metadata": {},
     "output_type": "execute_result"
    }
   ],
   "source": [
    "df_test.describe(include='object').T"
   ],
   "metadata": {
    "collapsed": false,
    "pycharm": {
     "name": "#%%\n"
    }
   }
  },
  {
   "cell_type": "markdown",
   "source": [
    "- Analyzing data types (auto-assigned)"
   ],
   "metadata": {
    "collapsed": false,
    "pycharm": {
     "name": "#%% md\n"
    }
   }
  },
  {
   "cell_type": "code",
   "execution_count": 8,
   "outputs": [
    {
     "name": "stdout",
     "output_type": "stream",
     "text": [
      "<class 'pandas.core.frame.DataFrame'>\n",
      "RangeIndex: 100000 entries, 0 to 99999\n",
      "Data columns (total 20 columns):\n",
      " #   Column                   Non-Null Count   Dtype \n",
      "---  ------                   --------------   ----- \n",
      " 0   ID                       100000 non-null  object\n",
      " 1   Customer_ID              100000 non-null  object\n",
      " 2   Month                    100000 non-null  object\n",
      " 3   Name                     90015 non-null   object\n",
      " 4   Age                      100000 non-null  object\n",
      " 5   SSN                      100000 non-null  object\n",
      " 6   Occupation               100000 non-null  object\n",
      " 7   Annual_Income            100000 non-null  object\n",
      " 8   Num_of_Loan              100000 non-null  object\n",
      " 9   Type_of_Loan             88592 non-null   object\n",
      " 10  Num_of_Delayed_Payment   92998 non-null   object\n",
      " 11  Changed_Credit_Limit     100000 non-null  object\n",
      " 12  Credit_Mix               100000 non-null  object\n",
      " 13  Outstanding_Debt         100000 non-null  object\n",
      " 14  Credit_History_Age       90970 non-null   object\n",
      " 15  Payment_of_Min_Amount    100000 non-null  object\n",
      " 16  Amount_invested_monthly  95521 non-null   object\n",
      " 17  Payment_Behaviour        100000 non-null  object\n",
      " 18  Monthly_Balance          98800 non-null   object\n",
      " 19  Credit_Score             100000 non-null  object\n",
      "dtypes: object(20)\n",
      "memory usage: 15.3+ MB\n"
     ]
    }
   ],
   "source": [
    "df_train.select_dtypes('O').info()"
   ],
   "metadata": {
    "collapsed": false,
    "pycharm": {
     "name": "#%%\n"
    }
   }
  },
  {
   "cell_type": "code",
   "execution_count": 9,
   "outputs": [
    {
     "name": "stdout",
     "output_type": "stream",
     "text": [
      "<class 'pandas.core.frame.DataFrame'>\n",
      "RangeIndex: 50000 entries, 0 to 49999\n",
      "Data columns (total 19 columns):\n",
      " #   Column                   Non-Null Count  Dtype \n",
      "---  ------                   --------------  ----- \n",
      " 0   ID                       50000 non-null  object\n",
      " 1   Customer_ID              50000 non-null  object\n",
      " 2   Month                    50000 non-null  object\n",
      " 3   Name                     44985 non-null  object\n",
      " 4   Age                      50000 non-null  object\n",
      " 5   SSN                      50000 non-null  object\n",
      " 6   Occupation               50000 non-null  object\n",
      " 7   Annual_Income            50000 non-null  object\n",
      " 8   Num_of_Loan              50000 non-null  object\n",
      " 9   Type_of_Loan             44296 non-null  object\n",
      " 10  Num_of_Delayed_Payment   46502 non-null  object\n",
      " 11  Changed_Credit_Limit     50000 non-null  object\n",
      " 12  Credit_Mix               50000 non-null  object\n",
      " 13  Outstanding_Debt         50000 non-null  object\n",
      " 14  Credit_History_Age       45530 non-null  object\n",
      " 15  Payment_of_Min_Amount    50000 non-null  object\n",
      " 16  Amount_invested_monthly  47729 non-null  object\n",
      " 17  Payment_Behaviour        50000 non-null  object\n",
      " 18  Monthly_Balance          49438 non-null  object\n",
      "dtypes: object(19)\n",
      "memory usage: 7.2+ MB\n"
     ]
    }
   ],
   "source": [
    "df_test.select_dtypes('O').info()"
   ],
   "metadata": {
    "collapsed": false,
    "pycharm": {
     "name": "#%%\n"
    }
   }
  },
  {
   "cell_type": "markdown",
   "source": [
    "- Clean strange values apart from the NaN values"
   ],
   "metadata": {
    "collapsed": false,
    "pycharm": {
     "name": "#%% md\n"
    }
   }
  },
  {
   "cell_type": "code",
   "execution_count": 10,
   "outputs": [],
   "source": [
    "import creditscore.preprocess as preproc\n",
    "\n",
    "df_train = preproc.clean_strange_values(df_train)\n",
    "df_test = preproc.clean_strange_values(df_test)"
   ],
   "metadata": {
    "collapsed": false,
    "pycharm": {
     "name": "#%%\n"
    }
   }
  },
  {
   "cell_type": "code",
   "execution_count": 11,
   "outputs": [
    {
     "name": "stdout",
     "output_type": "stream",
     "text": [
      "\n"
     ]
    },
    {
     "data": {
      "text/plain": "       ID Customer_ID     Month           Name   Age          SSN Occupation  \\\n0  0x1602   CUS_0xd40   January  Aaron Maashoh    23  821-00-0265  Scientist   \n1  0x1603   CUS_0xd40  February  Aaron Maashoh    23  821-00-0265  Scientist   \n2  0x1604   CUS_0xd40     March  Aaron Maashoh  -500  821-00-0265  Scientist   \n3  0x1605   CUS_0xd40     April  Aaron Maashoh    23  821-00-0265  Scientist   \n4  0x1606   CUS_0xd40       May  Aaron Maashoh    23  821-00-0265  Scientist   \n\n  Annual_Income  Monthly_Inhand_Salary  Num_Bank_Accounts  ...  Credit_Mix  \\\n0      19114.12            1824.843333                  3  ...         NaN   \n1      19114.12                    NaN                  3  ...        Good   \n2      19114.12                    NaN                  3  ...        Good   \n3      19114.12                    NaN                  3  ...        Good   \n4      19114.12            1824.843333                  3  ...        Good   \n\n   Outstanding_Debt Credit_Utilization_Ratio     Credit_History_Age  \\\n0            809.98                26.822620  22 Years and 1 Months   \n1            809.98                31.944960                    NaN   \n2            809.98                28.609352  22 Years and 3 Months   \n3            809.98                31.377862  22 Years and 4 Months   \n4            809.98                24.797347  22 Years and 5 Months   \n\n   Payment_of_Min_Amount Total_EMI_per_month Amount_invested_monthly  \\\n0                     No           49.574949       80.41529543900253   \n1                     No           49.574949      118.28022162236736   \n2                     No           49.574949         81.699521264648   \n3                     No           49.574949       199.4580743910713   \n4                     No           49.574949      41.420153086217326   \n\n                  Payment_Behaviour     Monthly_Balance Credit_Score  \n0   High_spent_Small_value_payments  312.49408867943663         Good  \n1    Low_spent_Large_value_payments  284.62916249607184         Good  \n2   Low_spent_Medium_value_payments   331.2098628537912         Good  \n3    Low_spent_Small_value_payments  223.45130972736786         Good  \n4  High_spent_Medium_value_payments  341.48923103222177         Good  \n\n[5 rows x 28 columns]",
      "text/html": "<div>\n<style scoped>\n    .dataframe tbody tr th:only-of-type {\n        vertical-align: middle;\n    }\n\n    .dataframe tbody tr th {\n        vertical-align: top;\n    }\n\n    .dataframe thead th {\n        text-align: right;\n    }\n</style>\n<table border=\"1\" class=\"dataframe\">\n  <thead>\n    <tr style=\"text-align: right;\">\n      <th></th>\n      <th>ID</th>\n      <th>Customer_ID</th>\n      <th>Month</th>\n      <th>Name</th>\n      <th>Age</th>\n      <th>SSN</th>\n      <th>Occupation</th>\n      <th>Annual_Income</th>\n      <th>Monthly_Inhand_Salary</th>\n      <th>Num_Bank_Accounts</th>\n      <th>...</th>\n      <th>Credit_Mix</th>\n      <th>Outstanding_Debt</th>\n      <th>Credit_Utilization_Ratio</th>\n      <th>Credit_History_Age</th>\n      <th>Payment_of_Min_Amount</th>\n      <th>Total_EMI_per_month</th>\n      <th>Amount_invested_monthly</th>\n      <th>Payment_Behaviour</th>\n      <th>Monthly_Balance</th>\n      <th>Credit_Score</th>\n    </tr>\n  </thead>\n  <tbody>\n    <tr>\n      <th>0</th>\n      <td>0x1602</td>\n      <td>CUS_0xd40</td>\n      <td>January</td>\n      <td>Aaron Maashoh</td>\n      <td>23</td>\n      <td>821-00-0265</td>\n      <td>Scientist</td>\n      <td>19114.12</td>\n      <td>1824.843333</td>\n      <td>3</td>\n      <td>...</td>\n      <td>NaN</td>\n      <td>809.98</td>\n      <td>26.822620</td>\n      <td>22 Years and 1 Months</td>\n      <td>No</td>\n      <td>49.574949</td>\n      <td>80.41529543900253</td>\n      <td>High_spent_Small_value_payments</td>\n      <td>312.49408867943663</td>\n      <td>Good</td>\n    </tr>\n    <tr>\n      <th>1</th>\n      <td>0x1603</td>\n      <td>CUS_0xd40</td>\n      <td>February</td>\n      <td>Aaron Maashoh</td>\n      <td>23</td>\n      <td>821-00-0265</td>\n      <td>Scientist</td>\n      <td>19114.12</td>\n      <td>NaN</td>\n      <td>3</td>\n      <td>...</td>\n      <td>Good</td>\n      <td>809.98</td>\n      <td>31.944960</td>\n      <td>NaN</td>\n      <td>No</td>\n      <td>49.574949</td>\n      <td>118.28022162236736</td>\n      <td>Low_spent_Large_value_payments</td>\n      <td>284.62916249607184</td>\n      <td>Good</td>\n    </tr>\n    <tr>\n      <th>2</th>\n      <td>0x1604</td>\n      <td>CUS_0xd40</td>\n      <td>March</td>\n      <td>Aaron Maashoh</td>\n      <td>-500</td>\n      <td>821-00-0265</td>\n      <td>Scientist</td>\n      <td>19114.12</td>\n      <td>NaN</td>\n      <td>3</td>\n      <td>...</td>\n      <td>Good</td>\n      <td>809.98</td>\n      <td>28.609352</td>\n      <td>22 Years and 3 Months</td>\n      <td>No</td>\n      <td>49.574949</td>\n      <td>81.699521264648</td>\n      <td>Low_spent_Medium_value_payments</td>\n      <td>331.2098628537912</td>\n      <td>Good</td>\n    </tr>\n    <tr>\n      <th>3</th>\n      <td>0x1605</td>\n      <td>CUS_0xd40</td>\n      <td>April</td>\n      <td>Aaron Maashoh</td>\n      <td>23</td>\n      <td>821-00-0265</td>\n      <td>Scientist</td>\n      <td>19114.12</td>\n      <td>NaN</td>\n      <td>3</td>\n      <td>...</td>\n      <td>Good</td>\n      <td>809.98</td>\n      <td>31.377862</td>\n      <td>22 Years and 4 Months</td>\n      <td>No</td>\n      <td>49.574949</td>\n      <td>199.4580743910713</td>\n      <td>Low_spent_Small_value_payments</td>\n      <td>223.45130972736786</td>\n      <td>Good</td>\n    </tr>\n    <tr>\n      <th>4</th>\n      <td>0x1606</td>\n      <td>CUS_0xd40</td>\n      <td>May</td>\n      <td>Aaron Maashoh</td>\n      <td>23</td>\n      <td>821-00-0265</td>\n      <td>Scientist</td>\n      <td>19114.12</td>\n      <td>1824.843333</td>\n      <td>3</td>\n      <td>...</td>\n      <td>Good</td>\n      <td>809.98</td>\n      <td>24.797347</td>\n      <td>22 Years and 5 Months</td>\n      <td>No</td>\n      <td>49.574949</td>\n      <td>41.420153086217326</td>\n      <td>High_spent_Medium_value_payments</td>\n      <td>341.48923103222177</td>\n      <td>Good</td>\n    </tr>\n  </tbody>\n</table>\n<p>5 rows × 28 columns</p>\n</div>"
     },
     "metadata": {},
     "output_type": "display_data"
    },
    {
     "data": {
      "text/plain": "None"
     },
     "metadata": {},
     "output_type": "display_data"
    },
    {
     "data": {
      "text/plain": "       ID Customer_ID      Month             Name Age          SSN Occupation  \\\n0  0x160a   CUS_0xd40  September    Aaron Maashoh  23  821-00-0265  Scientist   \n1  0x160b   CUS_0xd40    October    Aaron Maashoh  24  821-00-0265  Scientist   \n2  0x160c   CUS_0xd40   November    Aaron Maashoh  24  821-00-0265  Scientist   \n3  0x160d   CUS_0xd40   December    Aaron Maashoh  24  821-00-0265  Scientist   \n4  0x1616  CUS_0x21b1  September  Rick Rothackerj  28  004-07-5839        NaN   \n\n  Annual_Income  Monthly_Inhand_Salary  Num_Bank_Accounts  ...  \\\n0      19114.12            1824.843333                  3  ...   \n1      19114.12            1824.843333                  3  ...   \n2      19114.12            1824.843333                  3  ...   \n3      19114.12                    NaN                  3  ...   \n4      34847.84            3037.986667                  2  ...   \n\n   Num_Credit_Inquiries  Credit_Mix Outstanding_Debt Credit_Utilization_Ratio  \\\n0                2022.0        Good           809.98                35.030402   \n1                   4.0        Good           809.98                33.053114   \n2                   4.0        Good           809.98                33.811894   \n3                   4.0        Good           809.98                32.430559   \n4                   5.0        Good           605.03                25.926822   \n\n       Credit_History_Age Payment_of_Min_Amount Total_EMI_per_month  \\\n0   22 Years and 9 Months                    No           49.574949   \n1  22 Years and 10 Months                    No           49.574949   \n2                     NaN                    No           49.574949   \n3   23 Years and 0 Months                    No           49.574949   \n4   27 Years and 3 Months                    No           18.816215   \n\n   Amount_invested_monthly                 Payment_Behaviour  \\\n0       236.64268203272135    Low_spent_Small_value_payments   \n1       21.465380264657146  High_spent_Medium_value_payments   \n2       148.23393788500925   Low_spent_Medium_value_payments   \n3        39.08251089460281  High_spent_Medium_value_payments   \n4       39.684018417945296   High_spent_Large_value_payments   \n\n      Monthly_Balance  \n0  186.26670208571772  \n1  361.44400385378196  \n2  264.67544623342997  \n3  343.82687322383634  \n4   485.2984336755923  \n\n[5 rows x 27 columns]",
      "text/html": "<div>\n<style scoped>\n    .dataframe tbody tr th:only-of-type {\n        vertical-align: middle;\n    }\n\n    .dataframe tbody tr th {\n        vertical-align: top;\n    }\n\n    .dataframe thead th {\n        text-align: right;\n    }\n</style>\n<table border=\"1\" class=\"dataframe\">\n  <thead>\n    <tr style=\"text-align: right;\">\n      <th></th>\n      <th>ID</th>\n      <th>Customer_ID</th>\n      <th>Month</th>\n      <th>Name</th>\n      <th>Age</th>\n      <th>SSN</th>\n      <th>Occupation</th>\n      <th>Annual_Income</th>\n      <th>Monthly_Inhand_Salary</th>\n      <th>Num_Bank_Accounts</th>\n      <th>...</th>\n      <th>Num_Credit_Inquiries</th>\n      <th>Credit_Mix</th>\n      <th>Outstanding_Debt</th>\n      <th>Credit_Utilization_Ratio</th>\n      <th>Credit_History_Age</th>\n      <th>Payment_of_Min_Amount</th>\n      <th>Total_EMI_per_month</th>\n      <th>Amount_invested_monthly</th>\n      <th>Payment_Behaviour</th>\n      <th>Monthly_Balance</th>\n    </tr>\n  </thead>\n  <tbody>\n    <tr>\n      <th>0</th>\n      <td>0x160a</td>\n      <td>CUS_0xd40</td>\n      <td>September</td>\n      <td>Aaron Maashoh</td>\n      <td>23</td>\n      <td>821-00-0265</td>\n      <td>Scientist</td>\n      <td>19114.12</td>\n      <td>1824.843333</td>\n      <td>3</td>\n      <td>...</td>\n      <td>2022.0</td>\n      <td>Good</td>\n      <td>809.98</td>\n      <td>35.030402</td>\n      <td>22 Years and 9 Months</td>\n      <td>No</td>\n      <td>49.574949</td>\n      <td>236.64268203272135</td>\n      <td>Low_spent_Small_value_payments</td>\n      <td>186.26670208571772</td>\n    </tr>\n    <tr>\n      <th>1</th>\n      <td>0x160b</td>\n      <td>CUS_0xd40</td>\n      <td>October</td>\n      <td>Aaron Maashoh</td>\n      <td>24</td>\n      <td>821-00-0265</td>\n      <td>Scientist</td>\n      <td>19114.12</td>\n      <td>1824.843333</td>\n      <td>3</td>\n      <td>...</td>\n      <td>4.0</td>\n      <td>Good</td>\n      <td>809.98</td>\n      <td>33.053114</td>\n      <td>22 Years and 10 Months</td>\n      <td>No</td>\n      <td>49.574949</td>\n      <td>21.465380264657146</td>\n      <td>High_spent_Medium_value_payments</td>\n      <td>361.44400385378196</td>\n    </tr>\n    <tr>\n      <th>2</th>\n      <td>0x160c</td>\n      <td>CUS_0xd40</td>\n      <td>November</td>\n      <td>Aaron Maashoh</td>\n      <td>24</td>\n      <td>821-00-0265</td>\n      <td>Scientist</td>\n      <td>19114.12</td>\n      <td>1824.843333</td>\n      <td>3</td>\n      <td>...</td>\n      <td>4.0</td>\n      <td>Good</td>\n      <td>809.98</td>\n      <td>33.811894</td>\n      <td>NaN</td>\n      <td>No</td>\n      <td>49.574949</td>\n      <td>148.23393788500925</td>\n      <td>Low_spent_Medium_value_payments</td>\n      <td>264.67544623342997</td>\n    </tr>\n    <tr>\n      <th>3</th>\n      <td>0x160d</td>\n      <td>CUS_0xd40</td>\n      <td>December</td>\n      <td>Aaron Maashoh</td>\n      <td>24</td>\n      <td>821-00-0265</td>\n      <td>Scientist</td>\n      <td>19114.12</td>\n      <td>NaN</td>\n      <td>3</td>\n      <td>...</td>\n      <td>4.0</td>\n      <td>Good</td>\n      <td>809.98</td>\n      <td>32.430559</td>\n      <td>23 Years and 0 Months</td>\n      <td>No</td>\n      <td>49.574949</td>\n      <td>39.08251089460281</td>\n      <td>High_spent_Medium_value_payments</td>\n      <td>343.82687322383634</td>\n    </tr>\n    <tr>\n      <th>4</th>\n      <td>0x1616</td>\n      <td>CUS_0x21b1</td>\n      <td>September</td>\n      <td>Rick Rothackerj</td>\n      <td>28</td>\n      <td>004-07-5839</td>\n      <td>NaN</td>\n      <td>34847.84</td>\n      <td>3037.986667</td>\n      <td>2</td>\n      <td>...</td>\n      <td>5.0</td>\n      <td>Good</td>\n      <td>605.03</td>\n      <td>25.926822</td>\n      <td>27 Years and 3 Months</td>\n      <td>No</td>\n      <td>18.816215</td>\n      <td>39.684018417945296</td>\n      <td>High_spent_Large_value_payments</td>\n      <td>485.2984336755923</td>\n    </tr>\n  </tbody>\n</table>\n<p>5 rows × 27 columns</p>\n</div>"
     },
     "metadata": {},
     "output_type": "display_data"
    }
   ],
   "source": [
    "display(\n",
    "    df_train.head(),\n",
    "    print(),\n",
    "    df_test.head()\n",
    ")"
   ],
   "metadata": {
    "collapsed": false,
    "pycharm": {
     "name": "#%%\n"
    }
   }
  },
  {
   "cell_type": "markdown",
   "source": [
    "- Reviewing the amount of null values"
   ],
   "metadata": {
    "collapsed": false,
    "pycharm": {
     "name": "#%% md\n"
    }
   }
  },
  {
   "cell_type": "code",
   "execution_count": 13,
   "outputs": [
    {
     "name": "stdout",
     "output_type": "stream",
     "text": [
      "\n"
     ]
    },
    {
     "data": {
      "text/plain": "ID                              0\nCustomer_ID                     0\nMonth                           0\nName                         9985\nAge                             0\nSSN                          5572\nOccupation                   7062\nAnnual_Income                   0\nMonthly_Inhand_Salary       15002\nNum_Bank_Accounts               0\nNum_Credit_Card                 0\nInterest_Rate                   0\nNum_of_Loan                     0\nType_of_Loan                11408\nDelay_from_due_date             0\nNum_of_Delayed_Payment       7002\nChanged_Credit_Limit         2091\nNum_Credit_Inquiries         1965\nCredit_Mix                  20195\nOutstanding_Debt                0\nCredit_Utilization_Ratio        0\nCredit_History_Age           9030\nPayment_of_Min_Amount           0\nTotal_EMI_per_month             0\nAmount_invested_monthly      4479\nPayment_Behaviour            7600\nMonthly_Balance              1200\nCredit_Score                    0\ndtype: int64"
     },
     "metadata": {},
     "output_type": "display_data"
    },
    {
     "data": {
      "text/plain": "None"
     },
     "metadata": {},
     "output_type": "display_data"
    },
    {
     "data": {
      "text/plain": "ID                             0\nCustomer_ID                    0\nMonth                          0\nName                        5015\nAge                            0\nSSN                         2828\nOccupation                  3438\nAnnual_Income                  0\nMonthly_Inhand_Salary       7498\nNum_Bank_Accounts              0\nNum_Credit_Card                0\nInterest_Rate                  0\nNum_of_Loan                    0\nType_of_Loan                5704\nDelay_from_due_date            0\nNum_of_Delayed_Payment      3498\nChanged_Credit_Limit        1059\nNum_Credit_Inquiries        1035\nCredit_Mix                  9805\nOutstanding_Debt               0\nCredit_Utilization_Ratio       0\nCredit_History_Age          4470\nPayment_of_Min_Amount          0\nTotal_EMI_per_month            0\nAmount_invested_monthly     2271\nPayment_Behaviour           3800\nMonthly_Balance              562\ndtype: int64"
     },
     "metadata": {},
     "output_type": "display_data"
    }
   ],
   "source": [
    "display(\n",
    "    df_train.isna().sum(),\n",
    "    print(),\n",
    "    df_test.isna().sum()\n",
    ")"
   ],
   "metadata": {
    "collapsed": false,
    "pycharm": {
     "name": "#%%\n"
    }
   }
  },
  {
   "cell_type": "code",
   "execution_count": null,
   "outputs": [],
   "source": [],
   "metadata": {
    "collapsed": false,
    "pycharm": {
     "name": "#%%\n"
    }
   }
  }
 ],
 "metadata": {
  "kernelspec": {
   "display_name": "Python 3",
   "language": "python",
   "name": "python3"
  },
  "language_info": {
   "codemirror_mode": {
    "name": "ipython",
    "version": 2
   },
   "file_extension": ".py",
   "mimetype": "text/x-python",
   "name": "python",
   "nbconvert_exporter": "python",
   "pygments_lexer": "ipython2",
   "version": "2.7.6"
  }
 },
 "nbformat": 4,
 "nbformat_minor": 0
}