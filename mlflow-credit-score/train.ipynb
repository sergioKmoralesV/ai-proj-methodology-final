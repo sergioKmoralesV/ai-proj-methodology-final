{
 "cells": [
  {
   "cell_type": "markdown",
   "metadata": {
    "pycharm": {
     "name": "#%% md\n"
    }
   },
   "source": [
    "# MLflow Training"
   ]
  },
  {
   "cell_type": "code",
   "execution_count": 1,
   "metadata": {
    "pycharm": {
     "name": "#%%\n"
    }
   },
   "outputs": [],
   "source": [
    "def train(in_n_estimators, in_max_depth):\n",
    "    import os\n",
    "    import warnings\n",
    "    import sys\n",
    "\n",
    "    import pandas as pd\n",
    "    import numpy as np\n",
    "    from sklearn.metrics import precision_score, recall_score, accuracy_score, f1_score\n",
    "    from sklearn.model_selection import train_test_split\n",
    "    from sklearn.ensemble import RandomForestClassifier\n",
    "\n",
    "    import mlflow\n",
    "    import mlflow.sklearn\n",
    "    \n",
    "    import logging\n",
    "    \n",
    "    sys.path.insert(0,'../credit-score')\n",
    "    from creditscore import preprocess as preproc\n",
    "\n",
    "    logging.basicConfig(level=logging.WARN)\n",
    "    logger = logging.getLogger(__name__)\n",
    "\n",
    "    def eval_metrics(actual, pred):\n",
    "        precision = precision_score(actual, pred, average='weighted')\n",
    "        recall = recall_score(actual, pred, average='weighted')\n",
    "        accuracy = accuracy_score(actual, pred)\n",
    "        f1 = f1_score(actual, pred, average='weighted')\n",
    "        return  precision, recall, accuracy, f1\n",
    "\n",
    "\n",
    "    warnings.filterwarnings(\"ignore\")\n",
    "    np.random.seed(40)\n",
    "\n",
    "    # Read the csv file\n",
    "    csv_path = \"../data/train.csv\"\n",
    "    try:\n",
    "        data = pd.read_csv(csv_path)\n",
    "    except Exception as e:\n",
    "        logger.exception(\n",
    "            \"Unable to download training & test CSV. Error: %s\", e)\n",
    "        \n",
    "    data = preproc.preprocess_pipeline(data).dropna()\n",
    "\n",
    "    data_x = data.drop([\"Credit_Score\"], axis=1)\n",
    "    data_y = data[[\"Credit_Score\"]]\n",
    "    \n",
    "    data_x = pd.get_dummies(data_x)\n",
    "    \n",
    "    # Split the data into training and test sets. (0.7, 0.3) split.\n",
    "    train_x, test_x, train_y, test_y = train_test_split(data_x, \n",
    "                                                        data_y, \n",
    "                                                        test_size=0.3, \n",
    "                                                        stratify=data_y, \n",
    "                                                        random_state=40, \n",
    "                                                        shuffle=True)\n",
    "\n",
    "    # Set default values if no number estimators is provided\n",
    "    if float(in_n_estimators) is None:\n",
    "        n_estimators = 100\n",
    "    else:\n",
    "        n_estimators = int(in_n_estimators)\n",
    "                  \n",
    "    # Set default values if no max_depth is provided\n",
    "    if float(in_max_depth) is None:\n",
    "        max_depth = 3\n",
    "    else:\n",
    "        max_depth = int(in_max_depth)\n",
    " \n",
    "    with mlflow.start_run():\n",
    "        # Execute ElasticNet\n",
    "        rf = RandomForestClassifier(n_estimators=n_estimators, max_depth=max_depth, random_state=42)\n",
    "        rf.fit(train_x, train_y)\n",
    "\n",
    "        # Evaluate Metrics\n",
    "        predicted = rf.predict(test_x)\n",
    "        (precision, recall, accuracy, f1) = eval_metrics(test_y, predicted)\n",
    "\n",
    "        # Print out metrics\n",
    "        print(\"Random Forest model (n_estimators=%f, max_depth=%f):\" % (n_estimators, max_depth))\n",
    "        print(\"  Precision: %s\" % precision)\n",
    "        print(\"  Recall: %s\" % recall)\n",
    "        print(\"  Accuracy: %s\" % accuracy)\n",
    "        print(\"  F1: %s\" % f1)\n",
    "\n",
    "        # Log parameter, metrics, and model to MLflow\n",
    "        mlflow.log_param(\"n_estimators\", n_estimators)\n",
    "        mlflow.log_param(\"max_depth\", max_depth)\n",
    "        mlflow.log_metric(\"precision\", precision)\n",
    "        mlflow.log_metric(\"recall\", recall)\n",
    "        mlflow.log_metric(\"accuracy\", accuracy)\n",
    "        mlflow.log_metric(\"f1\", accuracy)\n",
    "\n",
    "        mlflow.sklearn.log_model(rf, \"model\")"
   ]
  },
  {
   "cell_type": "code",
   "execution_count": 2,
   "metadata": {
    "pycharm": {
     "name": "#%%\n"
    }
   },
   "outputs": [
    {
     "name": "stdout",
     "output_type": "stream",
     "text": [
      "Random Forest model (n_estimators=100.000000, max_depth=2.000000):\n",
      "  Precision: 0.2784853560178507\n",
      "  Recall: 0.5277171174197883\n",
      "  Accuracy: 0.5277171174197883\n",
      "  F1: 0.3645771233985958\n"
     ]
    }
   ],
   "source": [
    "train(100, 2)"
   ]
  },
  {
   "cell_type": "code",
   "execution_count": 3,
   "metadata": {
    "pycharm": {
     "name": "#%%\n"
    }
   },
   "outputs": [
    {
     "name": "stdout",
     "output_type": "stream",
     "text": [
      "Random Forest model (n_estimators=100.000000, max_depth=3.000000):\n",
      "  Precision: 0.2784853560178507\n",
      "  Recall: 0.5277171174197883\n",
      "  Accuracy: 0.5277171174197883\n",
      "  F1: 0.3645771233985958\n"
     ]
    }
   ],
   "source": [
    "train(100, 3)"
   ]
  },
  {
   "cell_type": "code",
   "execution_count": 4,
   "metadata": {},
   "outputs": [
    {
     "name": "stdout",
     "output_type": "stream",
     "text": [
      "Random Forest model (n_estimators=200.000000, max_depth=5.000000):\n",
      "  Precision: 0.2784853560178507\n",
      "  Recall: 0.5277171174197883\n",
      "  Accuracy: 0.5277171174197883\n",
      "  F1: 0.3645771233985958\n"
     ]
    }
   ],
   "source": [
    "train(200, 5)"
   ]
  },
  {
   "cell_type": "code",
   "execution_count": 5,
   "metadata": {},
   "outputs": [
    {
     "name": "stdout",
     "output_type": "stream",
     "text": [
      "Random Forest model (n_estimators=500.000000, max_depth=10.000000):\n",
      "  Precision: 0.49326780493541095\n",
      "  Recall: 0.5717285402318159\n",
      "  Accuracy: 0.5717285402318159\n",
      "  F1: 0.4948155687479652\n"
     ]
    }
   ],
   "source": [
    "train(500, 10)"
   ]
  },
  {
   "cell_type": "code",
   "execution_count": 6,
   "metadata": {},
   "outputs": [
    {
     "name": "stdout",
     "output_type": "stream",
     "text": [
      "Random Forest model (n_estimators=500.000000, max_depth=20.000000):\n",
      "  Precision: 0.6404960785021463\n",
      "  Recall: 0.6175877708718294\n",
      "  Accuracy: 0.6175877708718294\n",
      "  F1: 0.5840993372773314\n"
     ]
    }
   ],
   "source": [
    "train(500, 20)"
   ]
  },
  {
   "cell_type": "code",
   "execution_count": 7,
   "metadata": {},
   "outputs": [
    {
     "name": "stdout",
     "output_type": "stream",
     "text": [
      "Random Forest model (n_estimators=200.000000, max_depth=25.000000):\n",
      "  Precision: 0.6469750192748265\n",
      "  Recall: 0.6391735259533009\n",
      "  Accuracy: 0.6391735259533009\n",
      "  F1: 0.6210750595180935\n"
     ]
    }
   ],
   "source": [
    "train(200, 25)"
   ]
  },
  {
   "cell_type": "code",
   "execution_count": 8,
   "metadata": {},
   "outputs": [
    {
     "name": "stdout",
     "output_type": "stream",
     "text": [
      "Random Forest model (n_estimators=200.000000, max_depth=30.000000):\n",
      "  Precision: 0.658352435311378\n",
      "  Recall: 0.659751385855871\n",
      "  Accuracy: 0.659751385855871\n",
      "  F1: 0.6579153951870572\n"
     ]
    }
   ],
   "source": [
    "train(200, 30)"
   ]
  }
 ],
 "metadata": {
  "kernelspec": {
   "display_name": "Python 3",
   "language": "python",
   "name": "python3"
  },
  "language_info": {
   "codemirror_mode": {
    "name": "ipython",
    "version": 3
   },
   "file_extension": ".py",
   "mimetype": "text/x-python",
   "name": "python",
   "nbconvert_exporter": "python",
   "pygments_lexer": "ipython3",
   "version": "3.9.13"
  }
 },
 "nbformat": 4,
 "nbformat_minor": 2
}
